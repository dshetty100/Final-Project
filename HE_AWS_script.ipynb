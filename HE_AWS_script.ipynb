{
  "nbformat": 4,
  "nbformat_minor": 0,
  "metadata": {
    "colab": {
      "name": "HE_AWS_script.ipynb",
      "provenance": []
    },
    "kernelspec": {
      "name": "python3",
      "display_name": "Python 3"
    },
    "language_info": {
      "name": "python"
    }
  },
  "cells": [
    {
      "cell_type": "code",
      "metadata": {
        "colab": {
          "base_uri": "https://localhost:8080/"
        },
        "id": "f6TlDvKTmHkb",
        "outputId": "20c71506-2c47-46e4-ea9e-581dc9317a17"
      },
      "source": [
        "import os\n",
        "# Find the latest version of spark 3.0 from http://www.apache.org/dist/spark/ and enter as the spark version\n",
        "\n",
        "spark_version = 'spark-3.2.0'\n",
        "os.environ['SPARK_VERSION']=spark_version\n",
        "\n",
        "# Install Spark and Java\n",
        "!apt-get update\n",
        "!apt-get install openjdk-11-jdk-headless -qq > /dev/null\n",
        "!wget -q http://www.apache.org/dist/spark/$SPARK_VERSION/$SPARK_VERSION-bin-hadoop2.7.tgz\n",
        "!tar xf $SPARK_VERSION-bin-hadoop2.7.tgz\n",
        "!pip install -q findspark\n",
        "\n",
        "# Set Environment Variables\n",
        "import os\n",
        "os.environ[\"JAVA_HOME\"] = \"/usr/lib/jvm/java-11-openjdk-amd64\"\n",
        "os.environ[\"SPARK_HOME\"] = f\"/content/{spark_version}-bin-hadoop2.7\"\n",
        "\n",
        "# Start a SparkSession\n",
        "import findspark\n",
        "findspark.init()"
      ],
      "execution_count": 38,
      "outputs": [
        {
          "output_type": "stream",
          "name": "stdout",
          "text": [
            "\r0% [Working]\r            \rGet:1 https://cloud.r-project.org/bin/linux/ubuntu bionic-cran40/ InRelease [3,626 B]\n",
            "Ign:2 https://developer.download.nvidia.com/compute/cuda/repos/ubuntu1804/x86_64  InRelease\n",
            "Get:3 http://security.ubuntu.com/ubuntu bionic-security InRelease [88.7 kB]\n",
            "Hit:4 http://ppa.launchpad.net/c2d4u.team/c2d4u4.0+/ubuntu bionic InRelease\n",
            "Hit:5 http://archive.ubuntu.com/ubuntu bionic InRelease\n",
            "Ign:6 https://developer.download.nvidia.com/compute/machine-learning/repos/ubuntu1804/x86_64  InRelease\n",
            "Hit:7 https://developer.download.nvidia.com/compute/cuda/repos/ubuntu1804/x86_64  Release\n",
            "Hit:8 https://developer.download.nvidia.com/compute/machine-learning/repos/ubuntu1804/x86_64  Release\n",
            "Get:9 http://archive.ubuntu.com/ubuntu bionic-updates InRelease [88.7 kB]\n",
            "Hit:10 http://ppa.launchpad.net/cran/libgit2/ubuntu bionic InRelease\n",
            "Hit:11 http://ppa.launchpad.net/deadsnakes/ppa/ubuntu bionic InRelease\n",
            "Get:12 http://archive.ubuntu.com/ubuntu bionic-backports InRelease [74.6 kB]\n",
            "Hit:13 http://ppa.launchpad.net/graphics-drivers/ppa/ubuntu bionic InRelease\n",
            "Fetched 256 kB in 3s (98.0 kB/s)\n",
            "Reading package lists... Done\n"
          ]
        }
      ]
    },
    {
      "cell_type": "code",
      "metadata": {
        "colab": {
          "base_uri": "https://localhost:8080/"
        },
        "id": "rdlGCT9omPXw",
        "outputId": "b33ea7eb-6323-4712-ff08-e77cecf6a652"
      },
      "source": [
        "#  get the postgres driver\n",
        "!wget https://jdbc.postgresql.org/download/postgresql-42.3.1.jar"
      ],
      "execution_count": 39,
      "outputs": [
        {
          "output_type": "stream",
          "name": "stdout",
          "text": [
            "--2022-01-23 18:57:55--  https://jdbc.postgresql.org/download/postgresql-42.3.1.jar\n",
            "Resolving jdbc.postgresql.org (jdbc.postgresql.org)... 72.32.157.228, 2001:4800:3e1:1::228\n",
            "Connecting to jdbc.postgresql.org (jdbc.postgresql.org)|72.32.157.228|:443... connected.\n",
            "HTTP request sent, awaiting response... 200 OK\n",
            "Length: 1015689 (992K) [application/java-archive]\n",
            "Saving to: ‘postgresql-42.3.1.jar.1’\n",
            "\n",
            "postgresql-42.3.1.j 100%[===================>] 991.88K  5.57MB/s    in 0.2s    \n",
            "\n",
            "2022-01-23 18:57:56 (5.57 MB/s) - ‘postgresql-42.3.1.jar.1’ saved [1015689/1015689]\n",
            "\n"
          ]
        }
      ]
    },
    {
      "cell_type": "code",
      "metadata": {
        "id": "MHklWXxAmPaO"
      },
      "source": [
        "#create a spark  session\n",
        "from pyspark.sql import SparkSession\n",
        "\n",
        "spark = SparkSession \\\n",
        "    .builder \\\n",
        "    .appName(\"HE Data\") \\\n",
        "    .config(\"spark.driver.extraClassPath\", \"/content/postgresql-42.3.1.jar\") \\\n",
        "    .getOrCreate()"
      ],
      "execution_count": 40,
      "outputs": []
    },
    {
      "cell_type": "code",
      "metadata": {
        "colab": {
          "base_uri": "https://localhost:8080/"
        },
        "id": "JcEwR15GmPcp",
        "outputId": "bc2726cb-c569-435e-d170-d5afa2236b73"
      },
      "source": [
        "# Read in data from S3 Buckets\n",
        "from pyspark import SparkFiles\n",
        "spark.sparkContext.addFile(\"https://expeditiondata.s3.us-east-2.amazonaws.com/updated_data.csv\")\n",
        "updated_df=spark.read.csv(SparkFiles.get('updated_data.csv'),header=True,  inferSchema=True)\n",
        "updated_df.show()"
      ],
      "execution_count": 81,
      "outputs": [
        {
          "output_type": "stream",
          "name": "stdout",
          "text": [
            "+-------------+-------+----------+-------+------+-------------+--------------+----------------+-------+-------------+-----------+------------------+------------+---+---+----------------+-------+----+-----------+----+-------------+\n",
            "|expedition_id|peak_id| peak_name|year_id|season|basecamp_date|highpoint_date|termination_date|members|member_deaths|hired_staff|hired_staff_deaths|   member_id|sex|age|highpoint_metres|success|solo|oxygen_used|died|height_metres|\n",
            "+-------------+-------+----------+-------+------+-------------+--------------+----------------+-------+-------------+-----------+------------------+------------+---+---+----------------+-------+----+-----------+----+-------------+\n",
            "|    AMAD78301|   AMAD|Ama Dablam|   1978|Autumn|    10/1/1978|    10/20/1978|      10/23/1978|      8|            0|          5|                 0|AMAD78301-01|  M| 40|              NA|      f|   f|          f|   f|         6814|\n",
            "|    AMAD78301|   AMAD|Ama Dablam|   1978|Autumn|    10/1/1978|    10/20/1978|      10/23/1978|      8|            0|          5|                 0|AMAD78301-02|  M| 41|            6000|      f|   f|          f|   f|         6814|\n",
            "|    AMAD78301|   AMAD|Ama Dablam|   1978|Autumn|    10/1/1978|    10/20/1978|      10/23/1978|      8|            0|          5|                 0|AMAD78301-03|  M| 27|              NA|      f|   f|          f|   f|         6814|\n",
            "|    AMAD78301|   AMAD|Ama Dablam|   1978|Autumn|    10/1/1978|    10/20/1978|      10/23/1978|      8|            0|          5|                 0|AMAD78301-04|  M| 40|            6000|      f|   f|          f|   f|         6814|\n",
            "|    AMAD78301|   AMAD|Ama Dablam|   1978|Autumn|    10/1/1978|    10/20/1978|      10/23/1978|      8|            0|          5|                 0|AMAD78301-05|  M| 34|              NA|      f|   f|          f|   f|         6814|\n",
            "|    AMAD78301|   AMAD|Ama Dablam|   1978|Autumn|    10/1/1978|    10/20/1978|      10/23/1978|      8|            0|          5|                 0|AMAD78301-06|  M| 25|            6000|      f|   f|          f|   f|         6814|\n",
            "|    AMAD78301|   AMAD|Ama Dablam|   1978|Autumn|    10/1/1978|    10/20/1978|      10/23/1978|      8|            0|          5|                 0|AMAD78301-07|  M| 41|            6000|      f|   f|          f|   f|         6814|\n",
            "|    AMAD78301|   AMAD|Ama Dablam|   1978|Autumn|    10/1/1978|    10/20/1978|      10/23/1978|      8|            0|          5|                 0|AMAD78301-08|  M| 29|            6000|      f|   f|          f|   f|         6814|\n",
            "|    AMAD79101|   AMAD|Ama Dablam|   1979|Spring|    3/29/1979|     4/22/1979|        5/2/1979|     16|            0|          9|                 0|AMAD79101-03|  M| 35|              NA|      f|   f|          f|   f|         6814|\n",
            "|    AMAD79101|   AMAD|Ama Dablam|   1979|Spring|    3/29/1979|     4/22/1979|        5/2/1979|     16|            0|          9|                 0|AMAD79101-04|  M| 37|            6814|      t|   f|          f|   f|         6814|\n",
            "|    AMAD79101|   AMAD|Ama Dablam|   1979|Spring|    3/29/1979|     4/22/1979|        5/2/1979|     16|            0|          9|                 0|AMAD79101-05|  M| 23|            6814|      t|   f|          f|   f|         6814|\n",
            "|    AMAD79101|   AMAD|Ama Dablam|   1979|Spring|    3/29/1979|     4/22/1979|        5/2/1979|     16|            0|          9|                 0|AMAD79101-01|  M| 44|              NA|      f|   f|          f|   f|         6814|\n",
            "|    AMAD79101|   AMAD|Ama Dablam|   1979|Spring|    3/29/1979|     4/22/1979|        5/2/1979|     16|            0|          9|                 0|AMAD79101-06|  M| 25|              NA|      f|   f|          f|   f|         6814|\n",
            "|    AMAD79101|   AMAD|Ama Dablam|   1979|Spring|    3/29/1979|     4/22/1979|        5/2/1979|     16|            0|          9|                 0|AMAD79101-07|  M| 28|              NA|      f|   f|          f|   f|         6814|\n",
            "|    AMAD79101|   AMAD|Ama Dablam|   1979|Spring|    3/29/1979|     4/22/1979|        5/2/1979|     16|            0|          9|                 0|AMAD79101-08|  M| 32|              NA|      f|   f|          f|   f|         6814|\n",
            "|    AMAD79101|   AMAD|Ama Dablam|   1979|Spring|    3/29/1979|     4/22/1979|        5/2/1979|     16|            0|          9|                 0|AMAD79101-02|  M| 42|            6814|      t|   f|          f|   f|         6814|\n",
            "|    AMAD79101|   AMAD|Ama Dablam|   1979|Spring|    3/29/1979|     4/22/1979|        5/2/1979|     16|            0|          9|                 0|AMAD79101-09|  M| 32|              NA|      f|   f|          f|   f|         6814|\n",
            "|    AMAD79101|   AMAD|Ama Dablam|   1979|Spring|    3/29/1979|     4/22/1979|        5/2/1979|     16|            0|          9|                 0|AMAD79101-10|  M| 30|            6814|      t|   f|          f|   f|         6814|\n",
            "|    AMAD79101|   AMAD|Ama Dablam|   1979|Spring|    3/29/1979|     4/22/1979|        5/2/1979|     16|            0|          9|                 0|AMAD79101-11|  M| 28|            6814|      t|   f|          f|   f|         6814|\n",
            "|    AMAD79101|   AMAD|Ama Dablam|   1979|Spring|    3/29/1979|     4/22/1979|        5/2/1979|     16|            0|          9|                 0|AMAD79101-12|  M| 35|            6814|      t|   f|          f|   f|         6814|\n",
            "+-------------+-------+----------+-------+------+-------------+--------------+----------------+-------+-------------+-----------+------------------+------------+---+---+----------------+-------+----+-----------+----+-------------+\n",
            "only showing top 20 rows\n",
            "\n"
          ]
        }
      ]
    },
    {
      "cell_type": "code",
      "metadata": {
        "id": "1KegBPfYmPfh"
      },
      "source": [
        "#remove highpoint_metres column\n",
        "# Load in a sql function to use columns\n",
        "from pyspark.sql.functions import col"
      ],
      "execution_count": 42,
      "outputs": []
    },
    {
      "cell_type": "code",
      "metadata": {
        "id": "EsBoIFhpo8R2"
      },
      "source": [
        "dropped_hm_df = updated_df.drop(\"highpoint_metres\")"
      ],
      "execution_count": 43,
      "outputs": []
    },
    {
      "cell_type": "code",
      "source": [
        "dropped_hm_df.show()"
      ],
      "metadata": {
        "colab": {
          "base_uri": "https://localhost:8080/"
        },
        "id": "MVZFAcAN8Rl2",
        "outputId": "e960dddc-c9fe-463f-8005-0b4d3ee73a5f"
      },
      "execution_count": 44,
      "outputs": [
        {
          "output_type": "stream",
          "name": "stdout",
          "text": [
            "+-------------+-------+----------+-------+------+-------------+--------------+----------------+-------+-------------+-----------+------------------+------------+---+---+-------+----+-----------+----+-------------+\n",
            "|expedition_id|peak_id| peak_name|year_id|season|basecamp_date|highpoint_date|termination_date|members|member_deaths|hired_staff|hired_staff_deaths|   member_id|sex|age|success|solo|oxygen_used|died|height_metres|\n",
            "+-------------+-------+----------+-------+------+-------------+--------------+----------------+-------+-------------+-----------+------------------+------------+---+---+-------+----+-----------+----+-------------+\n",
            "|    AMAD78301|   AMAD|Ama Dablam|   1978|Autumn|    10/1/1978|    10/20/1978|      10/23/1978|      8|            0|          5|                 0|AMAD78301-01|  M| 40|      f|   f|          f|   f|         6814|\n",
            "|    AMAD78301|   AMAD|Ama Dablam|   1978|Autumn|    10/1/1978|    10/20/1978|      10/23/1978|      8|            0|          5|                 0|AMAD78301-02|  M| 41|      f|   f|          f|   f|         6814|\n",
            "|    AMAD78301|   AMAD|Ama Dablam|   1978|Autumn|    10/1/1978|    10/20/1978|      10/23/1978|      8|            0|          5|                 0|AMAD78301-03|  M| 27|      f|   f|          f|   f|         6814|\n",
            "|    AMAD78301|   AMAD|Ama Dablam|   1978|Autumn|    10/1/1978|    10/20/1978|      10/23/1978|      8|            0|          5|                 0|AMAD78301-04|  M| 40|      f|   f|          f|   f|         6814|\n",
            "|    AMAD78301|   AMAD|Ama Dablam|   1978|Autumn|    10/1/1978|    10/20/1978|      10/23/1978|      8|            0|          5|                 0|AMAD78301-05|  M| 34|      f|   f|          f|   f|         6814|\n",
            "|    AMAD78301|   AMAD|Ama Dablam|   1978|Autumn|    10/1/1978|    10/20/1978|      10/23/1978|      8|            0|          5|                 0|AMAD78301-06|  M| 25|      f|   f|          f|   f|         6814|\n",
            "|    AMAD78301|   AMAD|Ama Dablam|   1978|Autumn|    10/1/1978|    10/20/1978|      10/23/1978|      8|            0|          5|                 0|AMAD78301-07|  M| 41|      f|   f|          f|   f|         6814|\n",
            "|    AMAD78301|   AMAD|Ama Dablam|   1978|Autumn|    10/1/1978|    10/20/1978|      10/23/1978|      8|            0|          5|                 0|AMAD78301-08|  M| 29|      f|   f|          f|   f|         6814|\n",
            "|    AMAD79101|   AMAD|Ama Dablam|   1979|Spring|    3/29/1979|     4/22/1979|        5/2/1979|     16|            0|          9|                 0|AMAD79101-03|  M| 35|      f|   f|          f|   f|         6814|\n",
            "|    AMAD79101|   AMAD|Ama Dablam|   1979|Spring|    3/29/1979|     4/22/1979|        5/2/1979|     16|            0|          9|                 0|AMAD79101-04|  M| 37|      t|   f|          f|   f|         6814|\n",
            "|    AMAD79101|   AMAD|Ama Dablam|   1979|Spring|    3/29/1979|     4/22/1979|        5/2/1979|     16|            0|          9|                 0|AMAD79101-05|  M| 23|      t|   f|          f|   f|         6814|\n",
            "|    AMAD79101|   AMAD|Ama Dablam|   1979|Spring|    3/29/1979|     4/22/1979|        5/2/1979|     16|            0|          9|                 0|AMAD79101-01|  M| 44|      f|   f|          f|   f|         6814|\n",
            "|    AMAD79101|   AMAD|Ama Dablam|   1979|Spring|    3/29/1979|     4/22/1979|        5/2/1979|     16|            0|          9|                 0|AMAD79101-06|  M| 25|      f|   f|          f|   f|         6814|\n",
            "|    AMAD79101|   AMAD|Ama Dablam|   1979|Spring|    3/29/1979|     4/22/1979|        5/2/1979|     16|            0|          9|                 0|AMAD79101-07|  M| 28|      f|   f|          f|   f|         6814|\n",
            "|    AMAD79101|   AMAD|Ama Dablam|   1979|Spring|    3/29/1979|     4/22/1979|        5/2/1979|     16|            0|          9|                 0|AMAD79101-08|  M| 32|      f|   f|          f|   f|         6814|\n",
            "|    AMAD79101|   AMAD|Ama Dablam|   1979|Spring|    3/29/1979|     4/22/1979|        5/2/1979|     16|            0|          9|                 0|AMAD79101-02|  M| 42|      t|   f|          f|   f|         6814|\n",
            "|    AMAD79101|   AMAD|Ama Dablam|   1979|Spring|    3/29/1979|     4/22/1979|        5/2/1979|     16|            0|          9|                 0|AMAD79101-09|  M| 32|      f|   f|          f|   f|         6814|\n",
            "|    AMAD79101|   AMAD|Ama Dablam|   1979|Spring|    3/29/1979|     4/22/1979|        5/2/1979|     16|            0|          9|                 0|AMAD79101-10|  M| 30|      t|   f|          f|   f|         6814|\n",
            "|    AMAD79101|   AMAD|Ama Dablam|   1979|Spring|    3/29/1979|     4/22/1979|        5/2/1979|     16|            0|          9|                 0|AMAD79101-11|  M| 28|      t|   f|          f|   f|         6814|\n",
            "|    AMAD79101|   AMAD|Ama Dablam|   1979|Spring|    3/29/1979|     4/22/1979|        5/2/1979|     16|            0|          9|                 0|AMAD79101-12|  M| 35|      t|   f|          f|   f|         6814|\n",
            "+-------------+-------+----------+-------+------+-------------+--------------+----------------+-------+-------------+-----------+------------------+------------+---+---+-------+----+-----------+----+-------------+\n",
            "only showing top 20 rows\n",
            "\n"
          ]
        }
      ]
    },
    {
      "cell_type": "code",
      "source": [
        "#create list to filer df to include top 15 most frequented peaks\n",
        "peak_list=['EVER','CHOY','AMAD','MANA','DHA1',\n",
        "           'MAKA','LHOT','BARU','PUMO','ANN1','KANG',\n",
        "           'HIML','ANN4','PUTH','TILI']"
      ],
      "metadata": {
        "id": "_hTwhAgr8uR7"
      },
      "execution_count": 45,
      "outputs": []
    },
    {
      "cell_type": "code",
      "source": [
        "#filter df to only included climbers on peaks in top 15\n",
        "filtered_df = dropped_hm_df.filter(dropped_hm_df.peak_id.isin(peak_list))"
      ],
      "metadata": {
        "id": "eSigods5_MmA"
      },
      "execution_count": 46,
      "outputs": []
    },
    {
      "cell_type": "code",
      "source": [
        "#row count of filtered df\n",
        "filtered_df.count()"
      ],
      "metadata": {
        "colab": {
          "base_uri": "https://localhost:8080/"
        },
        "id": "RuybWvXi_pRZ",
        "outputId": "f3cd711d-9c0c-4615-d6c6-d23fdd6761e7"
      },
      "execution_count": 47,
      "outputs": [
        {
          "output_type": "execute_result",
          "data": {
            "text/plain": [
              "61638"
            ]
          },
          "metadata": {},
          "execution_count": 47
        }
      ]
    },
    {
      "cell_type": "code",
      "source": [
        "#create column showing success by definition (reached summit and survived)\n",
        "from pyspark.sql.functions import when\n",
        "success_df = filtered_df.withColumn(\"defined_success\", \n",
        "                when(((filtered_df.success == 't') & (filtered_df.died == 'f')),\"TRUE\") \n",
        "               .otherwise(\"FALSE\")) \n",
        "success_df.show()"
      ],
      "metadata": {
        "colab": {
          "base_uri": "https://localhost:8080/"
        },
        "id": "yp2-WZi2w1ii",
        "outputId": "099912a7-26e7-4de3-b124-dc896a48a8eb"
      },
      "execution_count": 48,
      "outputs": [
        {
          "output_type": "stream",
          "name": "stdout",
          "text": [
            "+-------------+-------+----------+-------+------+-------------+--------------+----------------+-------+-------------+-----------+------------------+------------+---+---+-------+----+-----------+----+-------------+---------------+\n",
            "|expedition_id|peak_id| peak_name|year_id|season|basecamp_date|highpoint_date|termination_date|members|member_deaths|hired_staff|hired_staff_deaths|   member_id|sex|age|success|solo|oxygen_used|died|height_metres|defined_success|\n",
            "+-------------+-------+----------+-------+------+-------------+--------------+----------------+-------+-------------+-----------+------------------+------------+---+---+-------+----+-----------+----+-------------+---------------+\n",
            "|    AMAD78301|   AMAD|Ama Dablam|   1978|Autumn|    10/1/1978|    10/20/1978|      10/23/1978|      8|            0|          5|                 0|AMAD78301-01|  M| 40|      f|   f|          f|   f|         6814|          FALSE|\n",
            "|    AMAD78301|   AMAD|Ama Dablam|   1978|Autumn|    10/1/1978|    10/20/1978|      10/23/1978|      8|            0|          5|                 0|AMAD78301-02|  M| 41|      f|   f|          f|   f|         6814|          FALSE|\n",
            "|    AMAD78301|   AMAD|Ama Dablam|   1978|Autumn|    10/1/1978|    10/20/1978|      10/23/1978|      8|            0|          5|                 0|AMAD78301-03|  M| 27|      f|   f|          f|   f|         6814|          FALSE|\n",
            "|    AMAD78301|   AMAD|Ama Dablam|   1978|Autumn|    10/1/1978|    10/20/1978|      10/23/1978|      8|            0|          5|                 0|AMAD78301-04|  M| 40|      f|   f|          f|   f|         6814|          FALSE|\n",
            "|    AMAD78301|   AMAD|Ama Dablam|   1978|Autumn|    10/1/1978|    10/20/1978|      10/23/1978|      8|            0|          5|                 0|AMAD78301-05|  M| 34|      f|   f|          f|   f|         6814|          FALSE|\n",
            "|    AMAD78301|   AMAD|Ama Dablam|   1978|Autumn|    10/1/1978|    10/20/1978|      10/23/1978|      8|            0|          5|                 0|AMAD78301-06|  M| 25|      f|   f|          f|   f|         6814|          FALSE|\n",
            "|    AMAD78301|   AMAD|Ama Dablam|   1978|Autumn|    10/1/1978|    10/20/1978|      10/23/1978|      8|            0|          5|                 0|AMAD78301-07|  M| 41|      f|   f|          f|   f|         6814|          FALSE|\n",
            "|    AMAD78301|   AMAD|Ama Dablam|   1978|Autumn|    10/1/1978|    10/20/1978|      10/23/1978|      8|            0|          5|                 0|AMAD78301-08|  M| 29|      f|   f|          f|   f|         6814|          FALSE|\n",
            "|    AMAD79101|   AMAD|Ama Dablam|   1979|Spring|    3/29/1979|     4/22/1979|        5/2/1979|     16|            0|          9|                 0|AMAD79101-03|  M| 35|      f|   f|          f|   f|         6814|          FALSE|\n",
            "|    AMAD79101|   AMAD|Ama Dablam|   1979|Spring|    3/29/1979|     4/22/1979|        5/2/1979|     16|            0|          9|                 0|AMAD79101-04|  M| 37|      t|   f|          f|   f|         6814|           TRUE|\n",
            "|    AMAD79101|   AMAD|Ama Dablam|   1979|Spring|    3/29/1979|     4/22/1979|        5/2/1979|     16|            0|          9|                 0|AMAD79101-05|  M| 23|      t|   f|          f|   f|         6814|           TRUE|\n",
            "|    AMAD79101|   AMAD|Ama Dablam|   1979|Spring|    3/29/1979|     4/22/1979|        5/2/1979|     16|            0|          9|                 0|AMAD79101-01|  M| 44|      f|   f|          f|   f|         6814|          FALSE|\n",
            "|    AMAD79101|   AMAD|Ama Dablam|   1979|Spring|    3/29/1979|     4/22/1979|        5/2/1979|     16|            0|          9|                 0|AMAD79101-06|  M| 25|      f|   f|          f|   f|         6814|          FALSE|\n",
            "|    AMAD79101|   AMAD|Ama Dablam|   1979|Spring|    3/29/1979|     4/22/1979|        5/2/1979|     16|            0|          9|                 0|AMAD79101-07|  M| 28|      f|   f|          f|   f|         6814|          FALSE|\n",
            "|    AMAD79101|   AMAD|Ama Dablam|   1979|Spring|    3/29/1979|     4/22/1979|        5/2/1979|     16|            0|          9|                 0|AMAD79101-08|  M| 32|      f|   f|          f|   f|         6814|          FALSE|\n",
            "|    AMAD79101|   AMAD|Ama Dablam|   1979|Spring|    3/29/1979|     4/22/1979|        5/2/1979|     16|            0|          9|                 0|AMAD79101-02|  M| 42|      t|   f|          f|   f|         6814|           TRUE|\n",
            "|    AMAD79101|   AMAD|Ama Dablam|   1979|Spring|    3/29/1979|     4/22/1979|        5/2/1979|     16|            0|          9|                 0|AMAD79101-09|  M| 32|      f|   f|          f|   f|         6814|          FALSE|\n",
            "|    AMAD79101|   AMAD|Ama Dablam|   1979|Spring|    3/29/1979|     4/22/1979|        5/2/1979|     16|            0|          9|                 0|AMAD79101-10|  M| 30|      t|   f|          f|   f|         6814|           TRUE|\n",
            "|    AMAD79101|   AMAD|Ama Dablam|   1979|Spring|    3/29/1979|     4/22/1979|        5/2/1979|     16|            0|          9|                 0|AMAD79101-11|  M| 28|      t|   f|          f|   f|         6814|           TRUE|\n",
            "|    AMAD79101|   AMAD|Ama Dablam|   1979|Spring|    3/29/1979|     4/22/1979|        5/2/1979|     16|            0|          9|                 0|AMAD79101-12|  M| 35|      t|   f|          f|   f|         6814|           TRUE|\n",
            "+-------------+-------+----------+-------+------+-------------+--------------+----------------+-------+-------------+-----------+------------------+------------+---+---+-------+----+-----------+----+-------------+---------------+\n",
            "only showing top 20 rows\n",
            "\n"
          ]
        }
      ]
    },
    {
      "cell_type": "code",
      "source": [
        "#drop duplicates\n",
        "success_df.dropDuplicates()\n",
        "success_df.count()"
      ],
      "metadata": {
        "colab": {
          "base_uri": "https://localhost:8080/"
        },
        "id": "AMRsmtRc6PUs",
        "outputId": "df2031dd-9315-4ad0-cb69-65741e50f8f0"
      },
      "execution_count": 49,
      "outputs": [
        {
          "output_type": "execute_result",
          "data": {
            "text/plain": [
              "61638"
            ]
          },
          "metadata": {},
          "execution_count": 49
        }
      ]
    },
    {
      "cell_type": "markdown",
      "source": [
        "Removing Null Values"
      ],
      "metadata": {
        "id": "h9uqMBiTYef7"
      }
    },
    {
      "cell_type": "code",
      "metadata": {
        "id": "aGbciVVVo8Uj",
        "colab": {
          "base_uri": "https://localhost:8080/"
        },
        "outputId": "80f79d32-6776-4b3d-beb9-0eb4cabd4c05"
      },
      "source": [
        "# Count the number of null values for each column\n",
        "Dict_Null = {col:success_df.filter(success_df[col].isNull()).count() for col in success_df.columns}\n",
        "Dict_Null\n"
      ],
      "execution_count": 53,
      "outputs": [
        {
          "output_type": "execute_result",
          "data": {
            "text/plain": [
              "{'age': 8,\n",
              " 'basecamp_date': 0,\n",
              " 'defined_success': 0,\n",
              " 'died': 8,\n",
              " 'expedition_id': 0,\n",
              " 'height_metres': 0,\n",
              " 'highpoint_date': 0,\n",
              " 'hired_staff': 0,\n",
              " 'hired_staff_deaths': 0,\n",
              " 'member_deaths': 0,\n",
              " 'member_id': 8,\n",
              " 'members': 0,\n",
              " 'oxygen_used': 8,\n",
              " 'peak_id': 0,\n",
              " 'peak_name': 0,\n",
              " 'season': 0,\n",
              " 'sex': 8,\n",
              " 'solo': 8,\n",
              " 'success': 8,\n",
              " 'termination_date': 0,\n",
              " 'year_id': 0}"
            ]
          },
          "metadata": {},
          "execution_count": 53
        }
      ]
    },
    {
      "cell_type": "code",
      "source": [
        "# drop null columns\n",
        "# Drop the null columns where all values are null\n",
        "success_df = success_df.dropna(how='all')\n",
        "\n",
        "# Drop rows containing NaN values\n",
        "success_df = success_df.dropna()\n",
        "\n"
      ],
      "metadata": {
        "id": "KUDln8rg4DZX"
      },
      "execution_count": 68,
      "outputs": []
    },
    {
      "cell_type": "code",
      "source": [
        "# Count the number of null values for each column\n",
        "Dict_Null = {col:success_df.filter(success_df[col].isNull()).count() for col in success_df.columns}\n",
        "Dict_Null\n"
      ],
      "metadata": {
        "colab": {
          "base_uri": "https://localhost:8080/"
        },
        "id": "nMFv5e4m4bcE",
        "outputId": "0d242bdb-6ffb-45ca-c2f8-f34015a178d6"
      },
      "execution_count": 69,
      "outputs": [
        {
          "output_type": "execute_result",
          "data": {
            "text/plain": [
              "{'age': 0,\n",
              " 'basecamp_date': 0,\n",
              " 'defined_success': 0,\n",
              " 'died': 0,\n",
              " 'expedition_id': 0,\n",
              " 'height_metres': 0,\n",
              " 'highpoint_date': 0,\n",
              " 'hired_staff': 0,\n",
              " 'hired_staff_deaths': 0,\n",
              " 'member_deaths': 0,\n",
              " 'member_id': 0,\n",
              " 'members': 0,\n",
              " 'oxygen_used': 0,\n",
              " 'peak_id': 0,\n",
              " 'peak_name': 0,\n",
              " 'season': 0,\n",
              " 'sex': 0,\n",
              " 'solo': 0,\n",
              " 'success': 0,\n",
              " 'termination_date': 0,\n",
              " 'year_id': 0}"
            ]
          },
          "metadata": {},
          "execution_count": 69
        }
      ]
    },
    {
      "cell_type": "code",
      "source": [
        "#row count after nulls dropped\n",
        "success_df.count()\n",
        "success_df.show()"
      ],
      "metadata": {
        "colab": {
          "base_uri": "https://localhost:8080/"
        },
        "id": "rzM81iM4CUAQ",
        "outputId": "e9f9a9b0-9cde-41d8-8c6b-361fe47d6210"
      },
      "execution_count": 75,
      "outputs": [
        {
          "output_type": "stream",
          "name": "stdout",
          "text": [
            "+-------------+-------+----------+-------+------+-------------+--------------+----------------+-------+-------------+-----------+------------------+------------+---+---+-------+----+-----------+----+-------------+---------------+\n",
            "|expedition_id|peak_id| peak_name|year_id|season|basecamp_date|highpoint_date|termination_date|members|member_deaths|hired_staff|hired_staff_deaths|   member_id|sex|age|success|solo|oxygen_used|died|height_metres|defined_success|\n",
            "+-------------+-------+----------+-------+------+-------------+--------------+----------------+-------+-------------+-----------+------------------+------------+---+---+-------+----+-----------+----+-------------+---------------+\n",
            "|    AMAD78301|   AMAD|Ama Dablam|   1978|Autumn|    10/1/1978|    10/20/1978|      10/23/1978|      8|            0|          5|                 0|AMAD78301-01|  M| 40|      f|   f|          f|   f|         6814|          FALSE|\n",
            "|    AMAD78301|   AMAD|Ama Dablam|   1978|Autumn|    10/1/1978|    10/20/1978|      10/23/1978|      8|            0|          5|                 0|AMAD78301-02|  M| 41|      f|   f|          f|   f|         6814|          FALSE|\n",
            "|    AMAD78301|   AMAD|Ama Dablam|   1978|Autumn|    10/1/1978|    10/20/1978|      10/23/1978|      8|            0|          5|                 0|AMAD78301-03|  M| 27|      f|   f|          f|   f|         6814|          FALSE|\n",
            "|    AMAD78301|   AMAD|Ama Dablam|   1978|Autumn|    10/1/1978|    10/20/1978|      10/23/1978|      8|            0|          5|                 0|AMAD78301-04|  M| 40|      f|   f|          f|   f|         6814|          FALSE|\n",
            "|    AMAD78301|   AMAD|Ama Dablam|   1978|Autumn|    10/1/1978|    10/20/1978|      10/23/1978|      8|            0|          5|                 0|AMAD78301-05|  M| 34|      f|   f|          f|   f|         6814|          FALSE|\n",
            "|    AMAD78301|   AMAD|Ama Dablam|   1978|Autumn|    10/1/1978|    10/20/1978|      10/23/1978|      8|            0|          5|                 0|AMAD78301-06|  M| 25|      f|   f|          f|   f|         6814|          FALSE|\n",
            "|    AMAD78301|   AMAD|Ama Dablam|   1978|Autumn|    10/1/1978|    10/20/1978|      10/23/1978|      8|            0|          5|                 0|AMAD78301-07|  M| 41|      f|   f|          f|   f|         6814|          FALSE|\n",
            "|    AMAD78301|   AMAD|Ama Dablam|   1978|Autumn|    10/1/1978|    10/20/1978|      10/23/1978|      8|            0|          5|                 0|AMAD78301-08|  M| 29|      f|   f|          f|   f|         6814|          FALSE|\n",
            "|    AMAD79101|   AMAD|Ama Dablam|   1979|Spring|    3/29/1979|     4/22/1979|        5/2/1979|     16|            0|          9|                 0|AMAD79101-03|  M| 35|      f|   f|          f|   f|         6814|          FALSE|\n",
            "|    AMAD79101|   AMAD|Ama Dablam|   1979|Spring|    3/29/1979|     4/22/1979|        5/2/1979|     16|            0|          9|                 0|AMAD79101-04|  M| 37|      t|   f|          f|   f|         6814|           TRUE|\n",
            "|    AMAD79101|   AMAD|Ama Dablam|   1979|Spring|    3/29/1979|     4/22/1979|        5/2/1979|     16|            0|          9|                 0|AMAD79101-05|  M| 23|      t|   f|          f|   f|         6814|           TRUE|\n",
            "|    AMAD79101|   AMAD|Ama Dablam|   1979|Spring|    3/29/1979|     4/22/1979|        5/2/1979|     16|            0|          9|                 0|AMAD79101-01|  M| 44|      f|   f|          f|   f|         6814|          FALSE|\n",
            "|    AMAD79101|   AMAD|Ama Dablam|   1979|Spring|    3/29/1979|     4/22/1979|        5/2/1979|     16|            0|          9|                 0|AMAD79101-06|  M| 25|      f|   f|          f|   f|         6814|          FALSE|\n",
            "|    AMAD79101|   AMAD|Ama Dablam|   1979|Spring|    3/29/1979|     4/22/1979|        5/2/1979|     16|            0|          9|                 0|AMAD79101-07|  M| 28|      f|   f|          f|   f|         6814|          FALSE|\n",
            "|    AMAD79101|   AMAD|Ama Dablam|   1979|Spring|    3/29/1979|     4/22/1979|        5/2/1979|     16|            0|          9|                 0|AMAD79101-08|  M| 32|      f|   f|          f|   f|         6814|          FALSE|\n",
            "|    AMAD79101|   AMAD|Ama Dablam|   1979|Spring|    3/29/1979|     4/22/1979|        5/2/1979|     16|            0|          9|                 0|AMAD79101-02|  M| 42|      t|   f|          f|   f|         6814|           TRUE|\n",
            "|    AMAD79101|   AMAD|Ama Dablam|   1979|Spring|    3/29/1979|     4/22/1979|        5/2/1979|     16|            0|          9|                 0|AMAD79101-09|  M| 32|      f|   f|          f|   f|         6814|          FALSE|\n",
            "|    AMAD79101|   AMAD|Ama Dablam|   1979|Spring|    3/29/1979|     4/22/1979|        5/2/1979|     16|            0|          9|                 0|AMAD79101-10|  M| 30|      t|   f|          f|   f|         6814|           TRUE|\n",
            "|    AMAD79101|   AMAD|Ama Dablam|   1979|Spring|    3/29/1979|     4/22/1979|        5/2/1979|     16|            0|          9|                 0|AMAD79101-11|  M| 28|      t|   f|          f|   f|         6814|           TRUE|\n",
            "|    AMAD79101|   AMAD|Ama Dablam|   1979|Spring|    3/29/1979|     4/22/1979|        5/2/1979|     16|            0|          9|                 0|AMAD79101-12|  M| 35|      t|   f|          f|   f|         6814|           TRUE|\n",
            "+-------------+-------+----------+-------+------+-------------+--------------+----------------+-------+-------------+-----------+------------------+------------+---+---+-------+----+-----------+----+-------------+---------------+\n",
            "only showing top 20 rows\n",
            "\n"
          ]
        }
      ]
    },
    {
      "cell_type": "markdown",
      "source": [
        "Removing Outliers"
      ],
      "metadata": {
        "id": "vh3mQtlOYaj-"
      }
    },
    {
      "cell_type": "code",
      "source": [
        "df = success_df"
      ],
      "metadata": {
        "id": "glshy0mTY4aD"
      },
      "execution_count": 76,
      "outputs": []
    },
    {
      "cell_type": "code",
      "source": [
        "import pandas  as pd\n",
        "pd.df['age'].plot.box()"
      ],
      "metadata": {
        "colab": {
          "base_uri": "https://localhost:8080/",
          "height": 304
        },
        "id": "wHVW2Wa_bT96",
        "outputId": "2d0fd820-13a7-4009-a728-31fc6f5fe011"
      },
      "execution_count": 89,
      "outputs": [
        {
          "output_type": "error",
          "ename": "AttributeError",
          "evalue": "ignored",
          "traceback": [
            "\u001b[0;31m---------------------------------------------------------------------------\u001b[0m",
            "\u001b[0;31mAttributeError\u001b[0m                            Traceback (most recent call last)",
            "\u001b[0;32m<ipython-input-89-b91916ed8e14>\u001b[0m in \u001b[0;36m<module>\u001b[0;34m()\u001b[0m\n\u001b[1;32m      1\u001b[0m \u001b[0;32mimport\u001b[0m \u001b[0mpandas\u001b[0m  \u001b[0;32mas\u001b[0m \u001b[0mpd\u001b[0m\u001b[0;34m\u001b[0m\u001b[0;34m\u001b[0m\u001b[0m\n\u001b[0;32m----> 2\u001b[0;31m \u001b[0mpd\u001b[0m\u001b[0;34m.\u001b[0m\u001b[0mdf\u001b[0m\u001b[0;34m[\u001b[0m\u001b[0;34m'age'\u001b[0m\u001b[0;34m]\u001b[0m\u001b[0;34m.\u001b[0m\u001b[0mplot\u001b[0m\u001b[0;34m.\u001b[0m\u001b[0mbox\u001b[0m\u001b[0;34m(\u001b[0m\u001b[0;34m)\u001b[0m\u001b[0;34m\u001b[0m\u001b[0;34m\u001b[0m\u001b[0m\n\u001b[0m",
            "\u001b[0;32m/usr/local/lib/python3.7/dist-packages/pandas/__init__.py\u001b[0m in \u001b[0;36m__getattr__\u001b[0;34m(name)\u001b[0m\n\u001b[1;32m    256\u001b[0m             \u001b[0;32mreturn\u001b[0m \u001b[0m_SparseArray\u001b[0m\u001b[0;34m\u001b[0m\u001b[0;34m\u001b[0m\u001b[0m\n\u001b[1;32m    257\u001b[0m \u001b[0;34m\u001b[0m\u001b[0m\n\u001b[0;32m--> 258\u001b[0;31m         \u001b[0;32mraise\u001b[0m \u001b[0mAttributeError\u001b[0m\u001b[0;34m(\u001b[0m\u001b[0;34mf\"module 'pandas' has no attribute '{name}'\"\u001b[0m\u001b[0;34m)\u001b[0m\u001b[0;34m\u001b[0m\u001b[0;34m\u001b[0m\u001b[0m\n\u001b[0m\u001b[1;32m    259\u001b[0m \u001b[0;34m\u001b[0m\u001b[0m\n\u001b[1;32m    260\u001b[0m \u001b[0;34m\u001b[0m\u001b[0m\n",
            "\u001b[0;31mAttributeError\u001b[0m: module 'pandas' has no attribute 'df'"
          ]
        }
      ]
    },
    {
      "cell_type": "code",
      "source": [
        "import pandas as pd\n",
        "\n",
        "\n",
        "import matplotlib.pyplot as plt\n",
        "from matplotlib import style\n",
        "#style.use('fivethirtyeight')\n",
        "import seaborn as sns\n",
        "import plotly.express as px\n",
        "\n",
        "cols = [\"age\"] \n",
        "\n",
        "Q3 = success_df[cols].quantile(0.60)\n",
        "Q1 = success_df[cols].quantile(0.01)\n",
        "IQR = Q3 - Q1\n",
        "\n",
        "#print(\"Upper Limit:\", Q3)\n",
        "#print(\"Lower Limit:\", Q1)\n",
        "#print(\"Inter-Quartile Range:\", IQR)\n",
        "\n",
        "#df = df[~((df[cols] < (Q1 - 1.5 * IQR)) |(df[cols] > (Q3 + 1.5 * IQR))).any(axis=1)]\n",
        "success_df"
      ],
      "metadata": {
        "colab": {
          "base_uri": "https://localhost:8080/",
          "height": 356
        },
        "id": "b704NHUuYcyi",
        "outputId": "fd963861-287e-4354-efb5-062e4c3c50da"
      },
      "execution_count": 78,
      "outputs": [
        {
          "output_type": "error",
          "ename": "AttributeError",
          "evalue": "ignored",
          "traceback": [
            "\u001b[0;31m---------------------------------------------------------------------------\u001b[0m",
            "\u001b[0;31mAttributeError\u001b[0m                            Traceback (most recent call last)",
            "\u001b[0;32m<ipython-input-78-2cf906a2b412>\u001b[0m in \u001b[0;36m<module>\u001b[0;34m()\u001b[0m\n\u001b[1;32m     11\u001b[0m \u001b[0mcols\u001b[0m \u001b[0;34m=\u001b[0m \u001b[0;34m[\u001b[0m\u001b[0;34m\"age\"\u001b[0m\u001b[0;34m]\u001b[0m\u001b[0;34m\u001b[0m\u001b[0;34m\u001b[0m\u001b[0m\n\u001b[1;32m     12\u001b[0m \u001b[0;34m\u001b[0m\u001b[0m\n\u001b[0;32m---> 13\u001b[0;31m \u001b[0mQ3\u001b[0m \u001b[0;34m=\u001b[0m \u001b[0msuccess_df\u001b[0m\u001b[0;34m[\u001b[0m\u001b[0mcols\u001b[0m\u001b[0;34m]\u001b[0m\u001b[0;34m.\u001b[0m\u001b[0mquantile\u001b[0m\u001b[0;34m(\u001b[0m\u001b[0;36m0.60\u001b[0m\u001b[0;34m)\u001b[0m\u001b[0;34m\u001b[0m\u001b[0;34m\u001b[0m\u001b[0m\n\u001b[0m\u001b[1;32m     14\u001b[0m \u001b[0mQ1\u001b[0m \u001b[0;34m=\u001b[0m \u001b[0msuccess_df\u001b[0m\u001b[0;34m[\u001b[0m\u001b[0mcols\u001b[0m\u001b[0;34m]\u001b[0m\u001b[0;34m.\u001b[0m\u001b[0mquantile\u001b[0m\u001b[0;34m(\u001b[0m\u001b[0;36m0.01\u001b[0m\u001b[0;34m)\u001b[0m\u001b[0;34m\u001b[0m\u001b[0;34m\u001b[0m\u001b[0m\n\u001b[1;32m     15\u001b[0m \u001b[0mIQR\u001b[0m \u001b[0;34m=\u001b[0m \u001b[0mQ3\u001b[0m \u001b[0;34m-\u001b[0m \u001b[0mQ1\u001b[0m\u001b[0;34m\u001b[0m\u001b[0;34m\u001b[0m\u001b[0m\n",
            "\u001b[0;32m/content/spark-3.2.0-bin-hadoop2.7/python/pyspark/sql/dataframe.py\u001b[0m in \u001b[0;36m__getattr__\u001b[0;34m(self, name)\u001b[0m\n\u001b[1;32m   1658\u001b[0m         \u001b[0;32mif\u001b[0m \u001b[0mname\u001b[0m \u001b[0;32mnot\u001b[0m \u001b[0;32min\u001b[0m \u001b[0mself\u001b[0m\u001b[0;34m.\u001b[0m\u001b[0mcolumns\u001b[0m\u001b[0;34m:\u001b[0m\u001b[0;34m\u001b[0m\u001b[0;34m\u001b[0m\u001b[0m\n\u001b[1;32m   1659\u001b[0m             raise AttributeError(\n\u001b[0;32m-> 1660\u001b[0;31m                 \"'%s' object has no attribute '%s'\" % (self.__class__.__name__, name))\n\u001b[0m\u001b[1;32m   1661\u001b[0m         \u001b[0mjc\u001b[0m \u001b[0;34m=\u001b[0m \u001b[0mself\u001b[0m\u001b[0;34m.\u001b[0m\u001b[0m_jdf\u001b[0m\u001b[0;34m.\u001b[0m\u001b[0mapply\u001b[0m\u001b[0;34m(\u001b[0m\u001b[0mname\u001b[0m\u001b[0;34m)\u001b[0m\u001b[0;34m\u001b[0m\u001b[0;34m\u001b[0m\u001b[0m\n\u001b[1;32m   1662\u001b[0m         \u001b[0;32mreturn\u001b[0m \u001b[0mColumn\u001b[0m\u001b[0;34m(\u001b[0m\u001b[0mjc\u001b[0m\u001b[0;34m)\u001b[0m\u001b[0;34m\u001b[0m\u001b[0;34m\u001b[0m\u001b[0m\n",
            "\u001b[0;31mAttributeError\u001b[0m: 'DataFrame' object has no attribute 'quantile'"
          ]
        }
      ]
    },
    {
      "cell_type": "code",
      "source": [
        "defined_clean_df = success_df\n",
        "defined_clean_df.show()"
      ],
      "metadata": {
        "colab": {
          "base_uri": "https://localhost:8080/"
        },
        "id": "7Lq5wnd7CnoC",
        "outputId": "fb9531f0-3bc5-4383-af63-764a6522f349"
      },
      "execution_count": 62,
      "outputs": [
        {
          "output_type": "stream",
          "name": "stdout",
          "text": [
            "+-------------+-------+----------+-------+------+-------------+--------------+----------------+-------+-------------+-----------+------------------+------------+---+---+-------+----+-----------+----+-------------+---------------+\n",
            "|expedition_id|peak_id| peak_name|year_id|season|basecamp_date|highpoint_date|termination_date|members|member_deaths|hired_staff|hired_staff_deaths|   member_id|sex|age|success|solo|oxygen_used|died|height_metres|defined_success|\n",
            "+-------------+-------+----------+-------+------+-------------+--------------+----------------+-------+-------------+-----------+------------------+------------+---+---+-------+----+-----------+----+-------------+---------------+\n",
            "|    AMAD78301|   AMAD|Ama Dablam|   1978|Autumn|    10/1/1978|    10/20/1978|      10/23/1978|      8|            0|          5|                 0|AMAD78301-01|  M| 40|      f|   f|          f|   f|         6814|          FALSE|\n",
            "|    AMAD78301|   AMAD|Ama Dablam|   1978|Autumn|    10/1/1978|    10/20/1978|      10/23/1978|      8|            0|          5|                 0|AMAD78301-02|  M| 41|      f|   f|          f|   f|         6814|          FALSE|\n",
            "|    AMAD78301|   AMAD|Ama Dablam|   1978|Autumn|    10/1/1978|    10/20/1978|      10/23/1978|      8|            0|          5|                 0|AMAD78301-03|  M| 27|      f|   f|          f|   f|         6814|          FALSE|\n",
            "|    AMAD78301|   AMAD|Ama Dablam|   1978|Autumn|    10/1/1978|    10/20/1978|      10/23/1978|      8|            0|          5|                 0|AMAD78301-04|  M| 40|      f|   f|          f|   f|         6814|          FALSE|\n",
            "|    AMAD78301|   AMAD|Ama Dablam|   1978|Autumn|    10/1/1978|    10/20/1978|      10/23/1978|      8|            0|          5|                 0|AMAD78301-05|  M| 34|      f|   f|          f|   f|         6814|          FALSE|\n",
            "|    AMAD78301|   AMAD|Ama Dablam|   1978|Autumn|    10/1/1978|    10/20/1978|      10/23/1978|      8|            0|          5|                 0|AMAD78301-06|  M| 25|      f|   f|          f|   f|         6814|          FALSE|\n",
            "|    AMAD78301|   AMAD|Ama Dablam|   1978|Autumn|    10/1/1978|    10/20/1978|      10/23/1978|      8|            0|          5|                 0|AMAD78301-07|  M| 41|      f|   f|          f|   f|         6814|          FALSE|\n",
            "|    AMAD78301|   AMAD|Ama Dablam|   1978|Autumn|    10/1/1978|    10/20/1978|      10/23/1978|      8|            0|          5|                 0|AMAD78301-08|  M| 29|      f|   f|          f|   f|         6814|          FALSE|\n",
            "|    AMAD79101|   AMAD|Ama Dablam|   1979|Spring|    3/29/1979|     4/22/1979|        5/2/1979|     16|            0|          9|                 0|AMAD79101-03|  M| 35|      f|   f|          f|   f|         6814|          FALSE|\n",
            "|    AMAD79101|   AMAD|Ama Dablam|   1979|Spring|    3/29/1979|     4/22/1979|        5/2/1979|     16|            0|          9|                 0|AMAD79101-04|  M| 37|      t|   f|          f|   f|         6814|           TRUE|\n",
            "|    AMAD79101|   AMAD|Ama Dablam|   1979|Spring|    3/29/1979|     4/22/1979|        5/2/1979|     16|            0|          9|                 0|AMAD79101-05|  M| 23|      t|   f|          f|   f|         6814|           TRUE|\n",
            "|    AMAD79101|   AMAD|Ama Dablam|   1979|Spring|    3/29/1979|     4/22/1979|        5/2/1979|     16|            0|          9|                 0|AMAD79101-01|  M| 44|      f|   f|          f|   f|         6814|          FALSE|\n",
            "|    AMAD79101|   AMAD|Ama Dablam|   1979|Spring|    3/29/1979|     4/22/1979|        5/2/1979|     16|            0|          9|                 0|AMAD79101-06|  M| 25|      f|   f|          f|   f|         6814|          FALSE|\n",
            "|    AMAD79101|   AMAD|Ama Dablam|   1979|Spring|    3/29/1979|     4/22/1979|        5/2/1979|     16|            0|          9|                 0|AMAD79101-07|  M| 28|      f|   f|          f|   f|         6814|          FALSE|\n",
            "|    AMAD79101|   AMAD|Ama Dablam|   1979|Spring|    3/29/1979|     4/22/1979|        5/2/1979|     16|            0|          9|                 0|AMAD79101-08|  M| 32|      f|   f|          f|   f|         6814|          FALSE|\n",
            "|    AMAD79101|   AMAD|Ama Dablam|   1979|Spring|    3/29/1979|     4/22/1979|        5/2/1979|     16|            0|          9|                 0|AMAD79101-02|  M| 42|      t|   f|          f|   f|         6814|           TRUE|\n",
            "|    AMAD79101|   AMAD|Ama Dablam|   1979|Spring|    3/29/1979|     4/22/1979|        5/2/1979|     16|            0|          9|                 0|AMAD79101-09|  M| 32|      f|   f|          f|   f|         6814|          FALSE|\n",
            "|    AMAD79101|   AMAD|Ama Dablam|   1979|Spring|    3/29/1979|     4/22/1979|        5/2/1979|     16|            0|          9|                 0|AMAD79101-10|  M| 30|      t|   f|          f|   f|         6814|           TRUE|\n",
            "|    AMAD79101|   AMAD|Ama Dablam|   1979|Spring|    3/29/1979|     4/22/1979|        5/2/1979|     16|            0|          9|                 0|AMAD79101-11|  M| 28|      t|   f|          f|   f|         6814|           TRUE|\n",
            "|    AMAD79101|   AMAD|Ama Dablam|   1979|Spring|    3/29/1979|     4/22/1979|        5/2/1979|     16|            0|          9|                 0|AMAD79101-12|  M| 35|      t|   f|          f|   f|         6814|           TRUE|\n",
            "+-------------+-------+----------+-------+------+-------------+--------------+----------------+-------+-------------+-----------+------------------+------------+---+---+-------+----+-----------+----+-------------+---------------+\n",
            "only showing top 20 rows\n",
            "\n"
          ]
        }
      ]
    },
    {
      "cell_type": "code",
      "metadata": {
        "colab": {
          "base_uri": "https://localhost:8080/"
        },
        "id": "LXUrT-MfqhyJ",
        "outputId": "7e87a06b-d326-4dd1-fd18-8ed52e677c83"
      },
      "source": [
        "defined_clean_df.printSchema()"
      ],
      "execution_count": 63,
      "outputs": [
        {
          "output_type": "stream",
          "name": "stdout",
          "text": [
            "root\n",
            " |-- expedition_id: string (nullable = true)\n",
            " |-- peak_id: string (nullable = true)\n",
            " |-- peak_name: string (nullable = true)\n",
            " |-- year_id: integer (nullable = true)\n",
            " |-- season: string (nullable = true)\n",
            " |-- basecamp_date: string (nullable = true)\n",
            " |-- highpoint_date: string (nullable = true)\n",
            " |-- termination_date: string (nullable = true)\n",
            " |-- members: integer (nullable = true)\n",
            " |-- member_deaths: integer (nullable = true)\n",
            " |-- hired_staff: integer (nullable = true)\n",
            " |-- hired_staff_deaths: integer (nullable = true)\n",
            " |-- member_id: string (nullable = true)\n",
            " |-- sex: string (nullable = true)\n",
            " |-- age: string (nullable = true)\n",
            " |-- success: string (nullable = true)\n",
            " |-- solo: string (nullable = true)\n",
            " |-- oxygen_used: string (nullable = true)\n",
            " |-- died: string (nullable = true)\n",
            " |-- height_metres: integer (nullable = true)\n",
            " |-- defined_success: string (nullable = false)\n",
            "\n"
          ]
        }
      ]
    },
    {
      "cell_type": "code",
      "metadata": {
        "id": "H-vbEDjfrTUw"
      },
      "source": [
        "# Configure settings for RDS\n",
        "\n",
        "server_name= \"jdbc:postgresql://group-1.c08lganpj8oa.us-east-2.rds.amazonaws.com:5432/postgres\"\n",
        "\n",
        "\n"
      ],
      "execution_count": 64,
      "outputs": []
    },
    {
      "cell_type": "code",
      "metadata": {
        "id": "bYb9KDOkrTXr"
      },
      "source": [
        "#write data  frame to active\n",
        "clean_df.write.jdbc(server_name,'defined_clean',  mode='append',properties={\n",
        "    \"user\":'root',\n",
        "    \"password\":'Group1!!',\n",
        "    \"driver\": 'org.postgresql.Driver'\n",
        "})"
      ],
      "execution_count": 65,
      "outputs": []
    }
  ]
}