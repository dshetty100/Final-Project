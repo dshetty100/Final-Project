{
  "nbformat": 4,
  "nbformat_minor": 0,
  "metadata": {
    "colab": {
      "name": "HE_AWS_script.ipynb",
      "provenance": []
    },
    "kernelspec": {
      "name": "python3",
      "display_name": "Python 3"
    },
    "language_info": {
      "name": "python"
    }
  },
  "cells": [
    {
      "cell_type": "code",
      "metadata": {
        "colab": {
          "base_uri": "https://localhost:8080/"
        },
        "id": "f6TlDvKTmHkb",
        "outputId": "573f6d99-34c8-4002-cd61-3f27444579c0"
      },
      "source": [
        "import os\n",
        "# Find the latest version of spark 3.0 from http://www.apache.org/dist/spark/ and enter as the spark version\n",
        "\n",
        "spark_version = 'spark-3.2.0'\n",
        "os.environ['SPARK_VERSION']=spark_version\n",
        "\n",
        "# Install Spark and Java\n",
        "!apt-get update\n",
        "!apt-get install openjdk-11-jdk-headless -qq > /dev/null\n",
        "!wget -q http://www.apache.org/dist/spark/$SPARK_VERSION/$SPARK_VERSION-bin-hadoop2.7.tgz\n",
        "!tar xf $SPARK_VERSION-bin-hadoop2.7.tgz\n",
        "!pip install -q findspark\n",
        "\n",
        "# Set Environment Variables\n",
        "import os\n",
        "os.environ[\"JAVA_HOME\"] = \"/usr/lib/jvm/java-11-openjdk-amd64\"\n",
        "os.environ[\"SPARK_HOME\"] = f\"/content/{spark_version}-bin-hadoop2.7\"\n",
        "\n",
        "# Start a SparkSession\n",
        "import findspark\n",
        "findspark.init()"
      ],
      "execution_count": null,
      "outputs": [
        {
          "output_type": "stream",
          "name": "stdout",
          "text": [
            "Hit:1 https://cloud.r-project.org/bin/linux/ubuntu bionic-cran40/ InRelease\n",
            "Ign:2 https://developer.download.nvidia.com/compute/cuda/repos/ubuntu1804/x86_64  InRelease\n",
            "Hit:3 http://ppa.launchpad.net/c2d4u.team/c2d4u4.0+/ubuntu bionic InRelease\n",
            "Hit:4 http://security.ubuntu.com/ubuntu bionic-security InRelease\n",
            "Hit:5 http://archive.ubuntu.com/ubuntu bionic InRelease\n",
            "Ign:6 https://developer.download.nvidia.com/compute/machine-learning/repos/ubuntu1804/x86_64  InRelease\n",
            "Hit:7 https://developer.download.nvidia.com/compute/cuda/repos/ubuntu1804/x86_64  Release\n",
            "Hit:8 https://developer.download.nvidia.com/compute/machine-learning/repos/ubuntu1804/x86_64  Release\n",
            "Hit:9 http://archive.ubuntu.com/ubuntu bionic-updates InRelease\n",
            "Hit:10 http://ppa.launchpad.net/cran/libgit2/ubuntu bionic InRelease\n",
            "Hit:11 http://archive.ubuntu.com/ubuntu bionic-backports InRelease\n",
            "Hit:12 http://ppa.launchpad.net/deadsnakes/ppa/ubuntu bionic InRelease\n",
            "Hit:13 http://ppa.launchpad.net/graphics-drivers/ppa/ubuntu bionic InRelease\n",
            "Reading package lists... Done\n"
          ]
        }
      ]
    },
    {
      "cell_type": "code",
      "metadata": {
        "colab": {
          "base_uri": "https://localhost:8080/"
        },
        "id": "rdlGCT9omPXw",
        "outputId": "c72c1816-9186-406c-d208-1fcad7768093"
      },
      "source": [
        "#  get the postgres driver\n",
        "!wget https://jdbc.postgresql.org/download/postgresql-42.3.1.jar"
      ],
      "execution_count": null,
      "outputs": [
        {
          "output_type": "stream",
          "name": "stdout",
          "text": [
            "--2022-01-19 22:16:56--  https://jdbc.postgresql.org/download/postgresql-42.3.1.jar\n",
            "Resolving jdbc.postgresql.org (jdbc.postgresql.org)... 72.32.157.228, 2001:4800:3e1:1::228\n",
            "Connecting to jdbc.postgresql.org (jdbc.postgresql.org)|72.32.157.228|:443... connected.\n",
            "HTTP request sent, awaiting response... 200 OK\n",
            "Length: 1015689 (992K) [application/java-archive]\n",
            "Saving to: ‘postgresql-42.3.1.jar.2’\n",
            "\n",
            "postgresql-42.3.1.j 100%[===================>] 991.88K  2.06MB/s    in 0.5s    \n",
            "\n",
            "2022-01-19 22:16:57 (2.06 MB/s) - ‘postgresql-42.3.1.jar.2’ saved [1015689/1015689]\n",
            "\n"
          ]
        }
      ]
    },
    {
      "cell_type": "code",
      "metadata": {
        "id": "MHklWXxAmPaO"
      },
      "source": [
        "#create a spark  session\n",
        "from pyspark.sql import SparkSession\n",
        "\n",
        "spark = SparkSession \\\n",
        "    .builder \\\n",
        "    .appName(\"HE Data\") \\\n",
        "    .config(\"spark.driver.extraClassPath\", \"/content/postgresql-42.3.1.jar\") \\\n",
        "    .getOrCreate()"
      ],
      "execution_count": null,
      "outputs": []
    },
    {
      "cell_type": "code",
      "metadata": {
        "colab": {
          "base_uri": "https://localhost:8080/"
        },
        "id": "JcEwR15GmPcp",
        "outputId": "753f5026-9e7b-4c65-93f7-e4d43306437f"
      },
      "source": [
        "# Read in data from S3 Buckets\n",
        "from pyspark import SparkFiles\n",
        "spark.sparkContext.addFile(\"https://expeditiondata.s3.us-east-2.amazonaws.com/updated_data.csv\")\n",
        "updated_df=spark.read.csv(SparkFiles.get('updated_data.csv'),header=True,  inferSchema=True)\n",
        "updated_df.show()"
      ],
      "execution_count": null,
      "outputs": [
        {
          "output_type": "stream",
          "name": "stdout",
          "text": [
            "+-------------+-------+----------+-------+------+-------------+--------------+----------------+-------+-------------+-----------+------------------+------------+---+---+----------------+-------+----+-----------+----+-------------+\n",
            "|expedition_id|peak_id| peak_name|year_id|season|basecamp_date|highpoint_date|termination_date|members|member_deaths|hired_staff|hired_staff_deaths|   member_id|sex|age|highpoint_metres|success|solo|oxygen_used|died|height_metres|\n",
            "+-------------+-------+----------+-------+------+-------------+--------------+----------------+-------+-------------+-----------+------------------+------------+---+---+----------------+-------+----+-----------+----+-------------+\n",
            "|    AMAD78301|   AMAD|Ama Dablam|   1978|Autumn|    10/1/1978|    10/20/1978|      10/23/1978|      8|            0|          5|                 0|AMAD78301-01|  M| 40|              NA|      f|   f|          f|   f|         6814|\n",
            "|    AMAD78301|   AMAD|Ama Dablam|   1978|Autumn|    10/1/1978|    10/20/1978|      10/23/1978|      8|            0|          5|                 0|AMAD78301-02|  M| 41|            6000|      f|   f|          f|   f|         6814|\n",
            "|    AMAD78301|   AMAD|Ama Dablam|   1978|Autumn|    10/1/1978|    10/20/1978|      10/23/1978|      8|            0|          5|                 0|AMAD78301-03|  M| 27|              NA|      f|   f|          f|   f|         6814|\n",
            "|    AMAD78301|   AMAD|Ama Dablam|   1978|Autumn|    10/1/1978|    10/20/1978|      10/23/1978|      8|            0|          5|                 0|AMAD78301-04|  M| 40|            6000|      f|   f|          f|   f|         6814|\n",
            "|    AMAD78301|   AMAD|Ama Dablam|   1978|Autumn|    10/1/1978|    10/20/1978|      10/23/1978|      8|            0|          5|                 0|AMAD78301-05|  M| 34|              NA|      f|   f|          f|   f|         6814|\n",
            "|    AMAD78301|   AMAD|Ama Dablam|   1978|Autumn|    10/1/1978|    10/20/1978|      10/23/1978|      8|            0|          5|                 0|AMAD78301-06|  M| 25|            6000|      f|   f|          f|   f|         6814|\n",
            "|    AMAD78301|   AMAD|Ama Dablam|   1978|Autumn|    10/1/1978|    10/20/1978|      10/23/1978|      8|            0|          5|                 0|AMAD78301-07|  M| 41|            6000|      f|   f|          f|   f|         6814|\n",
            "|    AMAD78301|   AMAD|Ama Dablam|   1978|Autumn|    10/1/1978|    10/20/1978|      10/23/1978|      8|            0|          5|                 0|AMAD78301-08|  M| 29|            6000|      f|   f|          f|   f|         6814|\n",
            "|    AMAD79101|   AMAD|Ama Dablam|   1979|Spring|    3/29/1979|     4/22/1979|        5/2/1979|     16|            0|          9|                 0|AMAD79101-03|  M| 35|              NA|      f|   f|          f|   f|         6814|\n",
            "|    AMAD79101|   AMAD|Ama Dablam|   1979|Spring|    3/29/1979|     4/22/1979|        5/2/1979|     16|            0|          9|                 0|AMAD79101-04|  M| 37|            6814|      t|   f|          f|   f|         6814|\n",
            "|    AMAD79101|   AMAD|Ama Dablam|   1979|Spring|    3/29/1979|     4/22/1979|        5/2/1979|     16|            0|          9|                 0|AMAD79101-05|  M| 23|            6814|      t|   f|          f|   f|         6814|\n",
            "|    AMAD79101|   AMAD|Ama Dablam|   1979|Spring|    3/29/1979|     4/22/1979|        5/2/1979|     16|            0|          9|                 0|AMAD79101-01|  M| 44|              NA|      f|   f|          f|   f|         6814|\n",
            "|    AMAD79101|   AMAD|Ama Dablam|   1979|Spring|    3/29/1979|     4/22/1979|        5/2/1979|     16|            0|          9|                 0|AMAD79101-06|  M| 25|              NA|      f|   f|          f|   f|         6814|\n",
            "|    AMAD79101|   AMAD|Ama Dablam|   1979|Spring|    3/29/1979|     4/22/1979|        5/2/1979|     16|            0|          9|                 0|AMAD79101-07|  M| 28|              NA|      f|   f|          f|   f|         6814|\n",
            "|    AMAD79101|   AMAD|Ama Dablam|   1979|Spring|    3/29/1979|     4/22/1979|        5/2/1979|     16|            0|          9|                 0|AMAD79101-08|  M| 32|              NA|      f|   f|          f|   f|         6814|\n",
            "|    AMAD79101|   AMAD|Ama Dablam|   1979|Spring|    3/29/1979|     4/22/1979|        5/2/1979|     16|            0|          9|                 0|AMAD79101-02|  M| 42|            6814|      t|   f|          f|   f|         6814|\n",
            "|    AMAD79101|   AMAD|Ama Dablam|   1979|Spring|    3/29/1979|     4/22/1979|        5/2/1979|     16|            0|          9|                 0|AMAD79101-09|  M| 32|              NA|      f|   f|          f|   f|         6814|\n",
            "|    AMAD79101|   AMAD|Ama Dablam|   1979|Spring|    3/29/1979|     4/22/1979|        5/2/1979|     16|            0|          9|                 0|AMAD79101-10|  M| 30|            6814|      t|   f|          f|   f|         6814|\n",
            "|    AMAD79101|   AMAD|Ama Dablam|   1979|Spring|    3/29/1979|     4/22/1979|        5/2/1979|     16|            0|          9|                 0|AMAD79101-11|  M| 28|            6814|      t|   f|          f|   f|         6814|\n",
            "|    AMAD79101|   AMAD|Ama Dablam|   1979|Spring|    3/29/1979|     4/22/1979|        5/2/1979|     16|            0|          9|                 0|AMAD79101-12|  M| 35|            6814|      t|   f|          f|   f|         6814|\n",
            "+-------------+-------+----------+-------+------+-------------+--------------+----------------+-------+-------------+-----------+------------------+------------+---+---+----------------+-------+----+-----------+----+-------------+\n",
            "only showing top 20 rows\n",
            "\n"
          ]
        }
      ]
    },
    {
      "cell_type": "code",
      "metadata": {
        "id": "1KegBPfYmPfh"
      },
      "source": [
        "#remove highpoint_metres column\n",
        "# Load in a sql function to use columns\n",
        "from pyspark.sql.functions import col"
      ],
      "execution_count": null,
      "outputs": []
    },
    {
      "cell_type": "code",
      "metadata": {
        "id": "EsBoIFhpo8R2"
      },
      "source": [
        "dropped_hm_df = updated_df.drop(\"highpoint_metres\")"
      ],
      "execution_count": null,
      "outputs": []
    },
    {
      "cell_type": "code",
      "source": [
        "dropped_hm_df.show()"
      ],
      "metadata": {
        "colab": {
          "base_uri": "https://localhost:8080/"
        },
        "id": "MVZFAcAN8Rl2",
        "outputId": "f6223710-aa0a-4da9-f096-3338fc82166e"
      },
      "execution_count": null,
      "outputs": [
        {
          "output_type": "stream",
          "name": "stdout",
          "text": [
            "+-------------+-------+----------+-------+------+-------------+--------------+----------------+-------+-------------+-----------+------------------+------------+---+---+-------+----+-----------+----+-------------+\n",
            "|expedition_id|peak_id| peak_name|year_id|season|basecamp_date|highpoint_date|termination_date|members|member_deaths|hired_staff|hired_staff_deaths|   member_id|sex|age|success|solo|oxygen_used|died|height_metres|\n",
            "+-------------+-------+----------+-------+------+-------------+--------------+----------------+-------+-------------+-----------+------------------+------------+---+---+-------+----+-----------+----+-------------+\n",
            "|    AMAD78301|   AMAD|Ama Dablam|   1978|Autumn|    10/1/1978|    10/20/1978|      10/23/1978|      8|            0|          5|                 0|AMAD78301-01|  M| 40|      f|   f|          f|   f|         6814|\n",
            "|    AMAD78301|   AMAD|Ama Dablam|   1978|Autumn|    10/1/1978|    10/20/1978|      10/23/1978|      8|            0|          5|                 0|AMAD78301-02|  M| 41|      f|   f|          f|   f|         6814|\n",
            "|    AMAD78301|   AMAD|Ama Dablam|   1978|Autumn|    10/1/1978|    10/20/1978|      10/23/1978|      8|            0|          5|                 0|AMAD78301-03|  M| 27|      f|   f|          f|   f|         6814|\n",
            "|    AMAD78301|   AMAD|Ama Dablam|   1978|Autumn|    10/1/1978|    10/20/1978|      10/23/1978|      8|            0|          5|                 0|AMAD78301-04|  M| 40|      f|   f|          f|   f|         6814|\n",
            "|    AMAD78301|   AMAD|Ama Dablam|   1978|Autumn|    10/1/1978|    10/20/1978|      10/23/1978|      8|            0|          5|                 0|AMAD78301-05|  M| 34|      f|   f|          f|   f|         6814|\n",
            "|    AMAD78301|   AMAD|Ama Dablam|   1978|Autumn|    10/1/1978|    10/20/1978|      10/23/1978|      8|            0|          5|                 0|AMAD78301-06|  M| 25|      f|   f|          f|   f|         6814|\n",
            "|    AMAD78301|   AMAD|Ama Dablam|   1978|Autumn|    10/1/1978|    10/20/1978|      10/23/1978|      8|            0|          5|                 0|AMAD78301-07|  M| 41|      f|   f|          f|   f|         6814|\n",
            "|    AMAD78301|   AMAD|Ama Dablam|   1978|Autumn|    10/1/1978|    10/20/1978|      10/23/1978|      8|            0|          5|                 0|AMAD78301-08|  M| 29|      f|   f|          f|   f|         6814|\n",
            "|    AMAD79101|   AMAD|Ama Dablam|   1979|Spring|    3/29/1979|     4/22/1979|        5/2/1979|     16|            0|          9|                 0|AMAD79101-03|  M| 35|      f|   f|          f|   f|         6814|\n",
            "|    AMAD79101|   AMAD|Ama Dablam|   1979|Spring|    3/29/1979|     4/22/1979|        5/2/1979|     16|            0|          9|                 0|AMAD79101-04|  M| 37|      t|   f|          f|   f|         6814|\n",
            "|    AMAD79101|   AMAD|Ama Dablam|   1979|Spring|    3/29/1979|     4/22/1979|        5/2/1979|     16|            0|          9|                 0|AMAD79101-05|  M| 23|      t|   f|          f|   f|         6814|\n",
            "|    AMAD79101|   AMAD|Ama Dablam|   1979|Spring|    3/29/1979|     4/22/1979|        5/2/1979|     16|            0|          9|                 0|AMAD79101-01|  M| 44|      f|   f|          f|   f|         6814|\n",
            "|    AMAD79101|   AMAD|Ama Dablam|   1979|Spring|    3/29/1979|     4/22/1979|        5/2/1979|     16|            0|          9|                 0|AMAD79101-06|  M| 25|      f|   f|          f|   f|         6814|\n",
            "|    AMAD79101|   AMAD|Ama Dablam|   1979|Spring|    3/29/1979|     4/22/1979|        5/2/1979|     16|            0|          9|                 0|AMAD79101-07|  M| 28|      f|   f|          f|   f|         6814|\n",
            "|    AMAD79101|   AMAD|Ama Dablam|   1979|Spring|    3/29/1979|     4/22/1979|        5/2/1979|     16|            0|          9|                 0|AMAD79101-08|  M| 32|      f|   f|          f|   f|         6814|\n",
            "|    AMAD79101|   AMAD|Ama Dablam|   1979|Spring|    3/29/1979|     4/22/1979|        5/2/1979|     16|            0|          9|                 0|AMAD79101-02|  M| 42|      t|   f|          f|   f|         6814|\n",
            "|    AMAD79101|   AMAD|Ama Dablam|   1979|Spring|    3/29/1979|     4/22/1979|        5/2/1979|     16|            0|          9|                 0|AMAD79101-09|  M| 32|      f|   f|          f|   f|         6814|\n",
            "|    AMAD79101|   AMAD|Ama Dablam|   1979|Spring|    3/29/1979|     4/22/1979|        5/2/1979|     16|            0|          9|                 0|AMAD79101-10|  M| 30|      t|   f|          f|   f|         6814|\n",
            "|    AMAD79101|   AMAD|Ama Dablam|   1979|Spring|    3/29/1979|     4/22/1979|        5/2/1979|     16|            0|          9|                 0|AMAD79101-11|  M| 28|      t|   f|          f|   f|         6814|\n",
            "|    AMAD79101|   AMAD|Ama Dablam|   1979|Spring|    3/29/1979|     4/22/1979|        5/2/1979|     16|            0|          9|                 0|AMAD79101-12|  M| 35|      t|   f|          f|   f|         6814|\n",
            "+-------------+-------+----------+-------+------+-------------+--------------+----------------+-------+-------------+-----------+------------------+------------+---+---+-------+----+-----------+----+-------------+\n",
            "only showing top 20 rows\n",
            "\n"
          ]
        }
      ]
    },
    {
      "cell_type": "code",
      "source": [
        "#create list to filer df to include top 15 most frequented peaks\n",
        "peak_list=['EVER','CHOY','AMAD','MANA','DHA1',\n",
        "           'MAKA','LHOT','BARU','PUMO','ANN1','KANG',\n",
        "           'HIML','ANN4','PUTH','TILI']"
      ],
      "metadata": {
        "id": "_hTwhAgr8uR7"
      },
      "execution_count": null,
      "outputs": []
    },
    {
      "cell_type": "code",
      "source": [
        "#filter df to only included climbers on peaks in top 15\n",
        "filtered_df = dropped_hm_df.filter(dropped_hm_df.peak_id.isin(peak_list))"
      ],
      "metadata": {
        "id": "eSigods5_MmA"
      },
      "execution_count": null,
      "outputs": []
    },
    {
      "cell_type": "code",
      "source": [
        "#row count of filtered df\n",
        "filtered_df.count()"
      ],
      "metadata": {
        "colab": {
          "base_uri": "https://localhost:8080/"
        },
        "id": "RuybWvXi_pRZ",
        "outputId": "75987ae1-d542-42d3-824f-a78571fce375"
      },
      "execution_count": null,
      "outputs": [
        {
          "output_type": "execute_result",
          "data": {
            "text/plain": [
              "61638"
            ]
          },
          "metadata": {},
          "execution_count": 76
        }
      ]
    },
    {
      "cell_type": "code",
      "metadata": {
        "id": "aGbciVVVo8Uj"
      },
      "source": [
        "# Drop null values\n",
        "clean_df = filtered_df.dropna()\n"
      ],
      "execution_count": null,
      "outputs": []
    },
    {
      "cell_type": "code",
      "source": [
        "#row count after nulls dropped\n",
        "clean_df.count()"
      ],
      "metadata": {
        "colab": {
          "base_uri": "https://localhost:8080/"
        },
        "id": "rzM81iM4CUAQ",
        "outputId": "13f8ebcf-c6e2-4930-fef7-9f441dc26823"
      },
      "execution_count": null,
      "outputs": [
        {
          "output_type": "execute_result",
          "data": {
            "text/plain": [
              "61630"
            ]
          },
          "metadata": {},
          "execution_count": 78
        }
      ]
    },
    {
      "cell_type": "code",
      "source": [
        "clean_df.show()"
      ],
      "metadata": {
        "colab": {
          "base_uri": "https://localhost:8080/"
        },
        "id": "7Lq5wnd7CnoC",
        "outputId": "5dd3fd9d-5802-452d-8948-8c3132eaf571"
      },
      "execution_count": null,
      "outputs": [
        {
          "output_type": "stream",
          "name": "stdout",
          "text": [
            "+-------------+-------+----------+-------+------+-------------+--------------+----------------+-------+-------------+-----------+------------------+------------+---+---+-------+----+-----------+----+-------------+\n",
            "|expedition_id|peak_id| peak_name|year_id|season|basecamp_date|highpoint_date|termination_date|members|member_deaths|hired_staff|hired_staff_deaths|   member_id|sex|age|success|solo|oxygen_used|died|height_metres|\n",
            "+-------------+-------+----------+-------+------+-------------+--------------+----------------+-------+-------------+-----------+------------------+------------+---+---+-------+----+-----------+----+-------------+\n",
            "|    AMAD78301|   AMAD|Ama Dablam|   1978|Autumn|    10/1/1978|    10/20/1978|      10/23/1978|      8|            0|          5|                 0|AMAD78301-01|  M| 40|      f|   f|          f|   f|         6814|\n",
            "|    AMAD78301|   AMAD|Ama Dablam|   1978|Autumn|    10/1/1978|    10/20/1978|      10/23/1978|      8|            0|          5|                 0|AMAD78301-02|  M| 41|      f|   f|          f|   f|         6814|\n",
            "|    AMAD78301|   AMAD|Ama Dablam|   1978|Autumn|    10/1/1978|    10/20/1978|      10/23/1978|      8|            0|          5|                 0|AMAD78301-03|  M| 27|      f|   f|          f|   f|         6814|\n",
            "|    AMAD78301|   AMAD|Ama Dablam|   1978|Autumn|    10/1/1978|    10/20/1978|      10/23/1978|      8|            0|          5|                 0|AMAD78301-04|  M| 40|      f|   f|          f|   f|         6814|\n",
            "|    AMAD78301|   AMAD|Ama Dablam|   1978|Autumn|    10/1/1978|    10/20/1978|      10/23/1978|      8|            0|          5|                 0|AMAD78301-05|  M| 34|      f|   f|          f|   f|         6814|\n",
            "|    AMAD78301|   AMAD|Ama Dablam|   1978|Autumn|    10/1/1978|    10/20/1978|      10/23/1978|      8|            0|          5|                 0|AMAD78301-06|  M| 25|      f|   f|          f|   f|         6814|\n",
            "|    AMAD78301|   AMAD|Ama Dablam|   1978|Autumn|    10/1/1978|    10/20/1978|      10/23/1978|      8|            0|          5|                 0|AMAD78301-07|  M| 41|      f|   f|          f|   f|         6814|\n",
            "|    AMAD78301|   AMAD|Ama Dablam|   1978|Autumn|    10/1/1978|    10/20/1978|      10/23/1978|      8|            0|          5|                 0|AMAD78301-08|  M| 29|      f|   f|          f|   f|         6814|\n",
            "|    AMAD79101|   AMAD|Ama Dablam|   1979|Spring|    3/29/1979|     4/22/1979|        5/2/1979|     16|            0|          9|                 0|AMAD79101-03|  M| 35|      f|   f|          f|   f|         6814|\n",
            "|    AMAD79101|   AMAD|Ama Dablam|   1979|Spring|    3/29/1979|     4/22/1979|        5/2/1979|     16|            0|          9|                 0|AMAD79101-04|  M| 37|      t|   f|          f|   f|         6814|\n",
            "|    AMAD79101|   AMAD|Ama Dablam|   1979|Spring|    3/29/1979|     4/22/1979|        5/2/1979|     16|            0|          9|                 0|AMAD79101-05|  M| 23|      t|   f|          f|   f|         6814|\n",
            "|    AMAD79101|   AMAD|Ama Dablam|   1979|Spring|    3/29/1979|     4/22/1979|        5/2/1979|     16|            0|          9|                 0|AMAD79101-01|  M| 44|      f|   f|          f|   f|         6814|\n",
            "|    AMAD79101|   AMAD|Ama Dablam|   1979|Spring|    3/29/1979|     4/22/1979|        5/2/1979|     16|            0|          9|                 0|AMAD79101-06|  M| 25|      f|   f|          f|   f|         6814|\n",
            "|    AMAD79101|   AMAD|Ama Dablam|   1979|Spring|    3/29/1979|     4/22/1979|        5/2/1979|     16|            0|          9|                 0|AMAD79101-07|  M| 28|      f|   f|          f|   f|         6814|\n",
            "|    AMAD79101|   AMAD|Ama Dablam|   1979|Spring|    3/29/1979|     4/22/1979|        5/2/1979|     16|            0|          9|                 0|AMAD79101-08|  M| 32|      f|   f|          f|   f|         6814|\n",
            "|    AMAD79101|   AMAD|Ama Dablam|   1979|Spring|    3/29/1979|     4/22/1979|        5/2/1979|     16|            0|          9|                 0|AMAD79101-02|  M| 42|      t|   f|          f|   f|         6814|\n",
            "|    AMAD79101|   AMAD|Ama Dablam|   1979|Spring|    3/29/1979|     4/22/1979|        5/2/1979|     16|            0|          9|                 0|AMAD79101-09|  M| 32|      f|   f|          f|   f|         6814|\n",
            "|    AMAD79101|   AMAD|Ama Dablam|   1979|Spring|    3/29/1979|     4/22/1979|        5/2/1979|     16|            0|          9|                 0|AMAD79101-10|  M| 30|      t|   f|          f|   f|         6814|\n",
            "|    AMAD79101|   AMAD|Ama Dablam|   1979|Spring|    3/29/1979|     4/22/1979|        5/2/1979|     16|            0|          9|                 0|AMAD79101-11|  M| 28|      t|   f|          f|   f|         6814|\n",
            "|    AMAD79101|   AMAD|Ama Dablam|   1979|Spring|    3/29/1979|     4/22/1979|        5/2/1979|     16|            0|          9|                 0|AMAD79101-12|  M| 35|      t|   f|          f|   f|         6814|\n",
            "+-------------+-------+----------+-------+------+-------------+--------------+----------------+-------+-------------+-----------+------------------+------------+---+---+-------+----+-----------+----+-------------+\n",
            "only showing top 20 rows\n",
            "\n"
          ]
        }
      ]
    },
    {
      "cell_type": "code",
      "metadata": {
        "colab": {
          "base_uri": "https://localhost:8080/"
        },
        "id": "LXUrT-MfqhyJ",
        "outputId": "57a2b5fc-677a-40a5-d06e-7e0450143ac4"
      },
      "source": [
        "clean_df.printSchema()"
      ],
      "execution_count": null,
      "outputs": [
        {
          "output_type": "stream",
          "name": "stdout",
          "text": [
            "root\n",
            " |-- expedition_id: string (nullable = true)\n",
            " |-- peak_id: string (nullable = true)\n",
            " |-- peak_name: string (nullable = true)\n",
            " |-- year_id: integer (nullable = true)\n",
            " |-- season: string (nullable = true)\n",
            " |-- basecamp_date: string (nullable = true)\n",
            " |-- highpoint_date: string (nullable = true)\n",
            " |-- termination_date: string (nullable = true)\n",
            " |-- members: integer (nullable = true)\n",
            " |-- member_deaths: integer (nullable = true)\n",
            " |-- hired_staff: integer (nullable = true)\n",
            " |-- hired_staff_deaths: integer (nullable = true)\n",
            " |-- member_id: string (nullable = true)\n",
            " |-- sex: string (nullable = true)\n",
            " |-- age: string (nullable = true)\n",
            " |-- success: string (nullable = true)\n",
            " |-- solo: string (nullable = true)\n",
            " |-- oxygen_used: string (nullable = true)\n",
            " |-- died: string (nullable = true)\n",
            " |-- height_metres: integer (nullable = true)\n",
            "\n"
          ]
        }
      ]
    },
    {
      "cell_type": "code",
      "metadata": {
        "id": "H-vbEDjfrTUw"
      },
      "source": [
        "# Configure settings for RDS\n",
        "\n",
        "server_name= \"jdbc:postgresql://group-1.c08lganpj8oa.us-east-2.rds.amazonaws.com:5432/postgres\"\n",
        "\n",
        "\n"
      ],
      "execution_count": null,
      "outputs": []
    },
    {
      "cell_type": "code",
      "metadata": {
        "id": "bYb9KDOkrTXr"
      },
      "source": [
        "#write data  frame to active\n",
        "clean_df.write.jdbc(server_name,'clean',  mode='append',properties={\n",
        "    \"user\":'root',\n",
        "    \"password\":'Group1!!',\n",
        "    \"driver\": 'org.postgresql.Driver'\n",
        "})"
      ],
      "execution_count": null,
      "outputs": []
    }
  ]
}